{
  "cells": [
    {
      "cell_type": "code",
      "execution_count": 5,
      "metadata": {
        "id": "fTwwhvd3mQE6"
      },
      "outputs": [],
      "source": [
        "import numpy as np\n",
        "import matplotlib.pyplot as plt"
      ]
    },
    {
      "cell_type": "markdown",
      "metadata": {
        "id": "Syyhuxd3mQE6"
      },
      "source": [
        "#### Problem description"
      ]
    },
    {
      "cell_type": "markdown",
      "metadata": {
        "id": "1iJDYcXrmQE7"
      },
      "source": [
        "Here you will set up the problem for\n",
        "$$ u_t + c u_x = 0$$\n",
        "with periodic BC on the interval [0,1]"
      ]
    },
    {
      "cell_type": "code",
      "execution_count": 6,
      "metadata": {
        "id": "8ZRxlwVLmQE7"
      },
      "outputs": [],
      "source": [
        "c = 1.0\n",
        "T = 1.0 / c # end time"
      ]
    },
    {
      "cell_type": "markdown",
      "metadata": {
        "id": "ewaq9kvSmQE7"
      },
      "source": [
        "#### Set up the grid"
      ]
    },
    {
      "cell_type": "markdown",
      "metadata": {
        "id": "z0q2F_X3mQE7"
      },
      "source": [
        "`hx` is the grid spacing in the `x`-direction\n",
        "\n",
        "`x` are the grid coordinates\n",
        "\n",
        "`xx` are really fine grid coordinates"
      ]
    },
    {
      "cell_type": "code",
      "execution_count": 7,
      "metadata": {
        "id": "7o1fOBbYmQE8",
        "outputId": "b804df62-2f3c-4d52-a771-fff1e426cbed",
        "colab": {
          "base_uri": "https://localhost:8080/"
        }
      },
      "outputs": [
        {
          "output_type": "stream",
          "name": "stdout",
          "text": [
            "0.01\n"
          ]
        }
      ],
      "source": [
        "nx = 100\n",
        "x = np.linspace(0, 1, nx, endpoint=False)\n",
        "hx = x[1] - x[0]\n",
        "xx = np.linspace(0, 1, 100, endpoint=False)\n",
        "print(hx)"
      ]
    },
    {
      "cell_type": "markdown",
      "metadata": {
        "id": "WebNOEEOmQE8"
      },
      "source": [
        "Now define an initial condition"
      ]
    },
    {
      "cell_type": "code",
      "execution_count": 8,
      "metadata": {
        "id": "mRviUwClmQE8",
        "outputId": "3d255736-c72f-494e-c225-9738b5fe353a",
        "colab": {
          "base_uri": "https://localhost:8080/",
          "height": 374
        }
      },
      "outputs": [
        {
          "output_type": "display_data",
          "data": {
            "text/plain": [
              "<Figure size 800x400 with 1 Axes>"
            ],
            "image/png": "[encoded data removed]"
          },
          "metadata": {}
        }
      ],
      "source": [
        "def square(x):\n",
        "    u = np.zeros(x.shape)\n",
        "    u[np.intersect1d(np.where(x>0.4), np.where(x<0.6))] = 1.0\n",
        "    return u\n",
        "\n",
        "f = square\n",
        "fig, ax = plt.subplots(figsize=(8,4))\n",
        "# TODO: plot the initial condition"
      ]
    },
    {
      "cell_type": "markdown",
      "metadata": {
        "id": "Qw-S4xPGmQE8"
      },
      "source": [
        "#### Setting time step $h_t$"
      ]
    },
    {
      "cell_type": "markdown",
      "metadata": {
        "id": "nnlhqAGDmQE9"
      },
      "source": [
        "Now we need a time step.  Let\n",
        "$$ \\lambda = a \\frac{h_t}{h_x}$$\n",
        "and\n",
        "$$ h_t = h_x \\frac{\\lambda}{c}$$\n",
        "\n",
        "So we first set the parameter $\\lambda$"
      ]
    },
    {
      "cell_type": "code",
      "execution_count": 11,
      "metadata": {
        "id": "16ucgT6VmQE9",
        "outputId": "cdd9b2cb-966a-408b-c55a-701988a4a6e4",
        "colab": {
          "base_uri": "https://localhost:8080/"
        }
      },
      "outputs": [
        {
          "output_type": "stream",
          "name": "stdout",
          "text": [
            "Setting...\n",
            "lambda = 3.0\n",
            "     T = 1.0\n",
            "    hx = 0.01\n",
            "...results in...\n",
            "tsteps = 33\n",
            "    ht = 0.03\n"
          ]
        }
      ],
      "source": [
        "lmbda = 3.0   # TODO: pick lmbda > 0\n",
        "ht = hx * lmbda / c\n",
        "nt = int(T/ht)\n",
        "\n",
        "print('Setting...')\n",
        "print(f'lambda = {lmbda}')\n",
        "print(f'     T = {T}')\n",
        "print(f'    hx = {hx}')\n",
        "print('...results in...')\n",
        "print(f'tsteps = {nt}')\n",
        "print(f'    ht = {ht}')\n"
      ]
    },
    {
      "cell_type": "markdown",
      "metadata": {
        "id": "CB97YodomQE9"
      },
      "source": [
        "Now make an index list, called $J$, so that we can access $J+1$ and $J-1$ easily"
      ]
    },
    {
      "cell_type": "code",
      "execution_count": null,
      "metadata": {
        "id": "_OKu3EdKmQE9"
      },
      "outputs": [],
      "source": [
        "J = np.arange(0, nx)  # all vertices\n",
        "Jm1 = np.roll(J, 1)\n",
        "Jp1 = np.roll(J, -1)"
      ]
    },
    {
      "cell_type": "markdown",
      "metadata": {
        "id": "uetEmR8bmQE9"
      },
      "source": [
        "# Run"
      ]
    },
    {
      "cell_type": "code",
      "execution_count": null,
      "metadata": {
        "id": "b29dk7i9mQE9"
      },
      "outputs": [],
      "source": [
        "err = np.zeros((nt+1, nx))\n",
        "u = f(x)\n",
        "\n",
        "fig, ax = plt.subplots(figsize=(8, 4))\n",
        "ax.plot(x, u, color='tab:red', ls='-', lw=2)\n",
        "\n",
        "for tstep in range(1, nt+1):\n",
        "    # TODO: code ETBS with J and Jm1\n",
        "\n",
        "    # TODO: plot the solution at each step"
      ]
    },
    {
      "cell_type": "markdown",
      "metadata": {
        "id": "4-jFf9NTmQE9"
      },
      "source": [
        "#### Check the error?\n",
        "\n",
        "How would you do this?"
      ]
    },
    {
      "cell_type": "code",
      "execution_count": null,
      "metadata": {
        "id": "Iqc9Y2btmQE9"
      },
      "outputs": [],
      "source": []
    },
    {
      "cell_type": "code",
      "execution_count": null,
      "metadata": {
        "id": "gXnybF2amQE9"
      },
      "outputs": [],
      "source": []
    },
    {
      "cell_type": "code",
      "execution_count": null,
      "metadata": {
        "id": "4sRU9qfXmQE9"
      },
      "outputs": [],
      "source": []
    }
  ],
  "metadata": {
    "kernelspec": {
      "display_name": "Python 3 (ipykernel)",
      "language": "python",
      "name": "python3"
    },
    "language_info": {
      "codemirror_mode": {
        "name": "ipython",
        "version": 3
      },
      "file_extension": ".py",
      "mimetype": "text/x-python",
      "name": "python",
      "nbconvert_exporter": "python",
      "pygments_lexer": "ipython3",
      "version": "3.12.8"
    },
    "colab": {
      "provenance": []
    }
  },
  "nbformat": 4,
  "nbformat_minor": 0
}