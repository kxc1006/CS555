{
  "cells": [
    {
      "cell_type": "code",
      "execution_count": 75,
      "metadata": {
        "id": "fTwwhvd3mQE6"
      },
      "outputs": [],
      "source": [
        "import numpy as np\n",
        "import matplotlib.pyplot as plt"
      ]
    },
    {
      "cell_type": "markdown",
      "metadata": {
        "id": "Syyhuxd3mQE6"
      },
      "source": [
        "#### Problem description"
      ]
    },
    {
      "cell_type": "markdown",
      "metadata": {
        "id": "1iJDYcXrmQE7"
      },
      "source": [
        "Here you will set up the problem for\n",
        "$$ u_t + c u_x = 0$$\n",
        "with periodic BC on the interval [0,1]"
      ]
    },
    {
      "cell_type": "code",
      "execution_count": 76,
      "metadata": {
        "id": "8ZRxlwVLmQE7"
      },
      "outputs": [],
      "source": [
        "c = 1.0\n",
        "T = 1.0 / c # end time"
      ]
    },
    {
      "cell_type": "markdown",
      "metadata": {
        "id": "ewaq9kvSmQE7"
      },
      "source": [
        "#### Set up the grid"
      ]
    },
    {
      "cell_type": "markdown",
      "metadata": {
        "id": "z0q2F_X3mQE7"
      },
      "source": [
        "`hx` is the grid spacing in the `x`-direction\n",
        "\n",
        "`x` are the grid coordinates\n",
        "\n",
        "`xx` are really fine grid coordinates"
      ]
    },
    {
      "cell_type": "code",
      "execution_count": 77,
      "metadata": {
        "colab": {
          "base_uri": "https://localhost:8080/"
        },
        "id": "7o1fOBbYmQE8",
        "outputId": "770313cb-adeb-46b2-8776-2991e7e9c345"
      },
      "outputs": [
        {
          "output_type": "stream",
          "name": "stdout",
          "text": [
            "0.01\n"
          ]
        }
      ],
      "source": [
        "nx = 100\n",
        "x = np.linspace(0, 1, nx, endpoint=False)\n",
        "hx = x[1] - x[0]\n",
        "xx = np.linspace(0, 1, 100, endpoint=False)\n",
        "print(hx)"
      ]
    },
    {
      "cell_type": "markdown",
      "metadata": {
        "id": "WebNOEEOmQE8"
      },
      "source": [
        "Now define an initial condition"
      ]
    },
    {
      "cell_type": "code",
      "execution_count": 78,
      "metadata": {
        "colab": {
          "base_uri": "https://localhost:8080/",
          "height": 374
        },
        "id": "mRviUwClmQE8",
        "outputId": "2f542921-f836-44f7-a6ce-dac801df5322"
      },
      "outputs": [
        {
          "output_type": "display_data",
          "data": {
            "text/plain": [
              "<Figure size 800x400 with 1 Axes>"
            ],
            "image/png": "[encoded data removed]"
          },
          "metadata": {}
        }
      ],
      "source": [
        "def square(x):\n",
        "    u = np.zeros(x.shape)\n",
        "    u[np.intersect1d(np.where(x>0.4), np.where(x<0.6))] = 1.0\n",
        "    return u\n",
        "\n",
        "f = square\n",
        "fig, ax = plt.subplots(figsize=(8,4))\n",
        "# TODO: plot the initial condition\n"
      ]
    },
    {
      "cell_type": "markdown",
      "metadata": {
        "id": "Qw-S4xPGmQE8"
      },
      "source": [
        "#### Setting time step $h_t$"
      ]
    },
    {
      "cell_type": "markdown",
      "metadata": {
        "id": "nnlhqAGDmQE9"
      },
      "source": [
        "Now we need a time step.  Let\n",
        "$$ \\lambda = a \\frac{h_t}{h_x}$$\n",
        "and\n",
        "$$ h_t = h_x \\frac{\\lambda}{c}$$\n",
        "\n",
        "So we first set the parameter $\\lambda$"
      ]
    },
    {
      "cell_type": "code",
      "execution_count": 79,
      "metadata": {
        "colab": {
          "base_uri": "https://localhost:8080/"
        },
        "id": "16ucgT6VmQE9",
        "outputId": "3595c5ed-5b59-41dd-ff89-2fa8b5913772"
      },
      "outputs": [
        {
          "output_type": "stream",
          "name": "stdout",
          "text": [
            "Setting...\n",
            "lambda = 18.0\n",
            "     T = 1.0\n",
            "    hx = 0.01\n",
            "...results in...\n",
            "tsteps = 5\n",
            "    ht = 0.18\n"
          ]
        }
      ],
      "source": [
        "lmbda = 18.0   # TODO: pick lmbda > 0\n",
        "ht = hx * lmbda / c\n",
        "nt = int(T/ht)\n",
        "\n",
        "print('Setting...')\n",
        "print(f'lambda = {lmbda}')\n",
        "print(f'     T = {T}')\n",
        "print(f'    hx = {hx}')\n",
        "print('...results in...')\n",
        "print(f'tsteps = {nt}')\n",
        "print(f'    ht = {ht}')\n"
      ]
    },
    {
      "cell_type": "markdown",
      "metadata": {
        "id": "CB97YodomQE9"
      },
      "source": [
        "Now make an index list, called $J$, so that we can access $J+1$ and $J-1$ easily"
      ]
    },
    {
      "cell_type": "code",
      "execution_count": 80,
      "metadata": {
        "id": "_OKu3EdKmQE9"
      },
      "outputs": [],
      "source": [
        "J = np.arange(0, nx)  # all vertices\n",
        "Jm1 = np.roll(J, 1)\n",
        "Jp1 = np.roll(J, -1)"
      ]
    },
    {
      "cell_type": "markdown",
      "metadata": {
        "id": "uetEmR8bmQE9"
      },
      "source": [
        "# Run"
      ]
    },
    {
      "cell_type": "code",
      "execution_count": 81,
      "metadata": {
        "colab": {
          "base_uri": "https://localhost:8080/",
          "height": 368
        },
        "id": "b29dk7i9mQE9",
        "outputId": "a564499e-7a56-44be-ac0e-1d3c8200ebd4"
      },
      "outputs": [
        {
          "output_type": "display_data",
          "data": {
            "text/plain": [
              "<Figure size 800x400 with 1 Axes>"
            ],
            "image/png": "[encoded data removed]"
          },
          "metadata": {}
        }
      ],
      "source": [
        "err = np.zeros((nt+1, nx))\n",
        "u = f(x)\n",
        "\n",
        "fig, ax = plt.subplots(figsize=(8, 4))\n",
        "ax.plot(x, u, color='tab:red', ls='-', lw=2)\n",
        "\n",
        "for tstep in range(1, nt+1):\n",
        "    k=10\n",
        "    u[k]=u[k]-lmbda * (u[k]-u[k-1])\n",
        "    u[J]=u[J]-lmbda * (u[J]-u[Jm1])\n",
        "    # TODO: code ETBS with J and Jm1\n",
        "    if tstep % 10 ==0:\n",
        "      ax.plot(x,u,lw=1,color='tab:blue')\n",
        "\n",
        "\n",
        "    # TODO: plot the solution at each step"
      ]
    },
    {
      "cell_type": "markdown",
      "metadata": {
        "id": "4-jFf9NTmQE9"
      },
      "source": [
        "#### Check the error?\n",
        "\n",
        "How would you do this?"
      ]
    },
    {
      "cell_type": "code",
      "execution_count": 81,
      "metadata": {
        "id": "Iqc9Y2btmQE9"
      },
      "outputs": [],
      "source": []
    },
    {
      "cell_type": "code",
      "execution_count": 81,
      "metadata": {
        "id": "gXnybF2amQE9"
      },
      "outputs": [],
      "source": []
    },
    {
      "cell_type": "code",
      "execution_count": 81,
      "metadata": {
        "id": "4sRU9qfXmQE9"
      },
      "outputs": [],
      "source": []
    }
  ],
  "metadata": {
    "kernelspec": {
      "display_name": "Python 3 (ipykernel)",
      "language": "python",
      "name": "python3"
    },
    "language_info": {
      "codemirror_mode": {
        "name": "ipython",
        "version": 3
      },
      "file_extension": ".py",
      "mimetype": "text/x-python",
      "name": "python",
      "nbconvert_exporter": "python",
      "pygments_lexer": "ipython3",
      "version": "3.12.8"
    },
    "colab": {
      "provenance": []
    }
  },
  "nbformat": 4,
  "nbformat_minor": 0
}